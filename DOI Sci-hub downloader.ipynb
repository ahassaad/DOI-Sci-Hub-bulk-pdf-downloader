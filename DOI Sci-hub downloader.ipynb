{
 "cells": [
  {
   "cell_type": "code",
   "execution_count": 1,
   "id": "f3b2bb5e",
   "metadata": {},
   "outputs": [],
   "source": [
    "#python -m PyPaperBot --doi-file=\"C:\\Users\\ahass\\Downloads\\DOI Sci-hub downloader\\file.txt\" --dwn-dir=\"D:\\- PhD Data -\\- PhD Research -\\2022\\Systematic LR\\Marine Clay\"`"
   ]
  },
  {
   "cell_type": "markdown",
   "id": "469790c3",
   "metadata": {},
   "source": [
    "# doi Sci-hub bulk downloader\n",
    "### Library Install"
   ]
  },
  {
   "cell_type": "code",
   "execution_count": 2,
   "id": "b3d4c2d7",
   "metadata": {},
   "outputs": [],
   "source": [
    "#!pip install scidownl               #to install the librarry"
   ]
  },
  {
   "cell_type": "markdown",
   "id": "f10b83a2",
   "metadata": {},
   "source": [
    "### Library identify "
   ]
  },
  {
   "cell_type": "code",
   "execution_count": 8,
   "id": "e1b3477b",
   "metadata": {},
   "outputs": [],
   "source": [
    "from scidownl import scihub_download\n",
    "import os"
   ]
  },
  {
   "cell_type": "markdown",
   "id": "42d86d80",
   "metadata": {},
   "source": [
    "### List of doi text file and output folder"
   ]
  },
  {
   "cell_type": "code",
   "execution_count": 16,
   "id": "8a2885d5",
   "metadata": {},
   "outputs": [],
   "source": [
    "doilist = open('file2.txt', 'r')     #DOI directory location\n",
    "dois = doilist.readlines()\n",
    "output_dir = './paper'               #download folder\n",
    "#print (dois)                        #for doi list for check if txt file is working\n",
    "x = 1                                #file name to check not downloaded doi file from the list"
   ]
  },
  {
   "cell_type": "markdown",
   "id": "1b8bd887",
   "metadata": {},
   "source": [
    "### Working code"
   ]
  },
  {
   "cell_type": "code",
   "execution_count": 17,
   "id": "ed4fe875",
   "metadata": {},
   "outputs": [
    {
     "name": "stderr",
     "output_type": "stream",
     "text": [
      "[INFO] | 2022/08/06 09:00:57 | Choose scihub url [0]: https://sci-hub.se\n",
      "[INFO] | 2022/08/06 09:00:58 | <- Request: scihub_url=https://sci-hub.se, source=DoiSource[type=doi, id=10.30880/ijie.2018.10.09.007\n",
      "]\n",
      "[INFO] | 2022/08/06 09:00:58 | -> Response: status_code=200, content_length=5837\n",
      "[WARNING] | 2022/08/06 09:00:58 | Error occurs, task status: extracting_failed, error: No pdf tag was found in the given content with the selector: #pdf\n",
      "[INFO] | 2022/08/06 09:00:58 | Choose scihub url [1]: https://sci-hub.st\n",
      "[INFO] | 2022/08/06 09:01:18 | <- Request: scihub_url=https://sci-hub.st, source=DoiSource[type=doi, id=10.30880/ijie.2018.10.09.007\n",
      "]\n",
      "[INFO] | 2022/08/06 09:01:18 | -> Response: status_code=200, content_length=19308\n",
      "[INFO] | 2022/08/06 09:01:18 | * Extracted information: {'url': 'https://sci-hub.st/downloads/2019-03-28/6c/10.0000@penerbit.uthm.edu.my@ojs@ijie@2508.pdf', 'title': ''}\n"
     ]
    },
    {
     "name": "stdout",
     "output_type": "stream",
     "text": [
      " 77% [...........................................................                 ] 360448 / 462804"
     ]
    },
    {
     "name": "stderr",
     "output_type": "stream",
     "text": [
      "[INFO] | 2022/08/06 09:01:20 | ↓ Successfully download the url to: ./paper\\paper 1 (1).pdf\n"
     ]
    },
    {
     "name": "stdout",
     "output_type": "stream",
     "text": [
      "\r",
      " 79% [............................................................                ] 368640 / 462804\r",
      " 81% [.............................................................               ] 376832 / 462804\r",
      " 83% [...............................................................             ] 385024 / 462804\r",
      " 84% [................................................................            ] 393216 / 462804\r",
      " 86% [.................................................................           ] 401408 / 462804\r",
      " 88% [...................................................................         ] 409600 / 462804\r",
      " 90% [....................................................................        ] 417792 / 462804\r",
      " 92% [.....................................................................       ] 425984 / 462804\r",
      " 93% [.......................................................................     ] 434176 / 462804\r",
      " 95% [........................................................................    ] 442368 / 462804\r",
      " 97% [.........................................................................   ] 450560 / 462804\r",
      " 99% [........................................................................... ] 458752 / 462804\r",
      "100% [............................................................................] 462804 / 462804\n"
     ]
    },
    {
     "name": "stderr",
     "output_type": "stream",
     "text": [
      "[INFO] | 2022/08/06 09:01:20 | Choose scihub url [0]: https://sci-hub.se\n",
      "[INFO] | 2022/08/06 09:01:21 | <- Request: scihub_url=https://sci-hub.se, source=DoiSource[type=doi, id=10.21660/2019.60.8263\n",
      "]\n",
      "[INFO] | 2022/08/06 09:01:21 | -> Response: status_code=200, content_length=5830\n",
      "[WARNING] | 2022/08/06 09:01:21 | Error occurs, task status: extracting_failed, error: No pdf tag was found in the given content with the selector: #pdf\n",
      "[INFO] | 2022/08/06 09:01:21 | Choose scihub url [1]: https://sci-hub.st\n",
      "[INFO] | 2022/08/06 09:01:22 | <- Request: scihub_url=https://sci-hub.st, source=DoiSource[type=doi, id=10.21660/2019.60.8263\n",
      "]\n",
      "[INFO] | 2022/08/06 09:01:22 | -> Response: status_code=200, content_length=0\n",
      "[WARNING] | 2022/08/06 09:01:22 | Error occurs, task status: extracting_failed, error: No pdf tag was found in the given content with the selector: #pdf\n",
      "[INFO] | 2022/08/06 09:01:22 | Choose scihub url [2]: http://sci-hub.se\n",
      "[INFO] | 2022/08/06 09:01:24 | <- Request: scihub_url=http://sci-hub.se, source=DoiSource[type=doi, id=10.21660/2019.60.8263\n",
      "]\n",
      "[INFO] | 2022/08/06 09:01:24 | -> Response: status_code=200, content_length=5830\n",
      "[WARNING] | 2022/08/06 09:01:24 | Error occurs, task status: extracting_failed, error: No pdf tag was found in the given content with the selector: #pdf\n",
      "[INFO] | 2022/08/06 09:01:24 | Choose scihub url [3]: http://sci-hub.st\n",
      "[INFO] | 2022/08/06 09:01:25 | <- Request: scihub_url=http://sci-hub.st, source=DoiSource[type=doi, id=10.21660/2019.60.8263\n",
      "]\n",
      "[INFO] | 2022/08/06 09:01:25 | -> Response: status_code=200, content_length=0\n",
      "[WARNING] | 2022/08/06 09:01:25 | Error occurs, task status: extracting_failed, error: No pdf tag was found in the given content with the selector: #pdf\n",
      "[INFO] | 2022/08/06 09:01:25 | Choose scihub url [4]: http://sci-hub.ru\n",
      "[INFO] | 2022/08/06 09:01:27 | <- Request: scihub_url=http://sci-hub.ru, source=DoiSource[type=doi, id=10.21660/2019.60.8263\n",
      "]\n",
      "[INFO] | 2022/08/06 09:01:27 | -> Response: status_code=403, content_length=8028\n",
      "[WARNING] | 2022/08/06 09:01:27 | Error occurs, task status: crawling_failed, error: Error occurs when crawling source: DoiSource[type=doi, id=10.21660/2019.60.8263\n",
      "]\n",
      "[INFO] | 2022/08/06 09:01:27 | Choose scihub url [5]: https://sci-hub.ru\n",
      "[INFO] | 2022/08/06 09:01:27 | <- Request: scihub_url=https://sci-hub.ru, source=DoiSource[type=doi, id=10.21660/2019.60.8263\n",
      "]\n",
      "[INFO] | 2022/08/06 09:01:27 | -> Response: status_code=403, content_length=8028\n",
      "[WARNING] | 2022/08/06 09:01:28 | Error occurs, task status: crawling_failed, error: Error occurs when crawling source: DoiSource[type=doi, id=10.21660/2019.60.8263\n",
      "]\n",
      "[ERROR] | 2022/08/06 09:01:28 | Failed to download the paper: 10.21660/2019.60.8263\n",
      ". Please try again.\n",
      "[INFO] | 2022/08/06 09:01:28 | Choose scihub url [0]: https://sci-hub.se\n",
      "[INFO] | 2022/08/06 09:01:29 | <- Request: scihub_url=https://sci-hub.se, source=DoiSource[type=doi, id=10.21660/2020.70.6676\n",
      "]\n",
      "[INFO] | 2022/08/06 09:01:29 | -> Response: status_code=200, content_length=5830\n",
      "[WARNING] | 2022/08/06 09:01:29 | Error occurs, task status: extracting_failed, error: No pdf tag was found in the given content with the selector: #pdf\n",
      "[INFO] | 2022/08/06 09:01:29 | Choose scihub url [1]: https://sci-hub.st\n",
      "[INFO] | 2022/08/06 09:01:29 | <- Request: scihub_url=https://sci-hub.st, source=DoiSource[type=doi, id=10.21660/2020.70.6676\n",
      "]\n",
      "[INFO] | 2022/08/06 09:01:29 | -> Response: status_code=200, content_length=0\n",
      "[WARNING] | 2022/08/06 09:01:30 | Error occurs, task status: extracting_failed, error: No pdf tag was found in the given content with the selector: #pdf\n",
      "[INFO] | 2022/08/06 09:01:30 | Choose scihub url [2]: http://sci-hub.se\n",
      "[INFO] | 2022/08/06 09:01:31 | <- Request: scihub_url=http://sci-hub.se, source=DoiSource[type=doi, id=10.21660/2020.70.6676\n",
      "]\n",
      "[INFO] | 2022/08/06 09:01:31 | -> Response: status_code=200, content_length=5830\n",
      "[WARNING] | 2022/08/06 09:01:31 | Error occurs, task status: extracting_failed, error: No pdf tag was found in the given content with the selector: #pdf\n",
      "[INFO] | 2022/08/06 09:01:31 | Choose scihub url [3]: http://sci-hub.st\n",
      "[INFO] | 2022/08/06 09:01:35 | <- Request: scihub_url=http://sci-hub.st, source=DoiSource[type=doi, id=10.21660/2020.70.6676\n",
      "]\n",
      "[INFO] | 2022/08/06 09:01:35 | -> Response: status_code=200, content_length=0\n",
      "[WARNING] | 2022/08/06 09:01:35 | Error occurs, task status: extracting_failed, error: No pdf tag was found in the given content with the selector: #pdf\n",
      "[INFO] | 2022/08/06 09:01:35 | Choose scihub url [4]: http://sci-hub.ru\n",
      "[INFO] | 2022/08/06 09:01:37 | <- Request: scihub_url=http://sci-hub.ru, source=DoiSource[type=doi, id=10.21660/2020.70.6676\n",
      "]\n",
      "[INFO] | 2022/08/06 09:01:37 | -> Response: status_code=403, content_length=8028\n",
      "[WARNING] | 2022/08/06 09:01:37 | Error occurs, task status: crawling_failed, error: Error occurs when crawling source: DoiSource[type=doi, id=10.21660/2020.70.6676\n",
      "]\n",
      "[INFO] | 2022/08/06 09:01:37 | Choose scihub url [5]: https://sci-hub.ru\n",
      "[INFO] | 2022/08/06 09:01:38 | <- Request: scihub_url=https://sci-hub.ru, source=DoiSource[type=doi, id=10.21660/2020.70.6676\n",
      "]\n",
      "[INFO] | 2022/08/06 09:01:38 | -> Response: status_code=403, content_length=8028\n",
      "[WARNING] | 2022/08/06 09:01:38 | Error occurs, task status: crawling_failed, error: Error occurs when crawling source: DoiSource[type=doi, id=10.21660/2020.70.6676\n",
      "]\n",
      "[ERROR] | 2022/08/06 09:01:38 | Failed to download the paper: 10.21660/2020.70.6676\n",
      ". Please try again.\n",
      "[INFO] | 2022/08/06 09:01:38 | Choose scihub url [0]: https://sci-hub.se\n",
      "[INFO] | 2022/08/06 09:01:39 | <- Request: scihub_url=https://sci-hub.se, source=DoiSource[type=doi, id=10.1051/e3sconf/20183401034\n",
      "]\n",
      "[INFO] | 2022/08/06 09:01:39 | -> Response: status_code=200, content_length=6956\n",
      "[INFO] | 2022/08/06 09:01:39 | * Extracted information: {'url': 'https://twin.sci-hub.se/6767/ab3de8d4ae89cd27e5c6d79d78090ea2/mohdzambri2018.pdf', 'title': 'Peat Soil Stabilization using Lime and Cement. E3S Web of Conferences, 34, 01034'}\n"
     ]
    },
    {
     "name": "stdout",
     "output_type": "stream",
     "text": [
      " 83% [...............................................................             ] 573440 / 684476"
     ]
    },
    {
     "name": "stderr",
     "output_type": "stream",
     "text": [
      "[INFO] | 2022/08/06 09:01:41 | ↓ Successfully download the url to: ./paper\\paper 4.pdf\n",
      "[INFO] | 2022/08/06 09:01:41 | Choose scihub url [0]: https://sci-hub.se\n"
     ]
    },
    {
     "name": "stdout",
     "output_type": "stream",
     "text": [
      "\r",
      " 84% [................................................................            ] 581632 / 684476\r",
      " 86% [.................................................................           ] 589824 / 684476\r",
      " 87% [..................................................................          ] 598016 / 684476\r",
      " 88% [...................................................................         ] 606208 / 684476\r",
      " 89% [....................................................................        ] 614400 / 684476\r",
      " 90% [.....................................................................       ] 622592 / 684476\r",
      " 92% [......................................................................      ] 630784 / 684476\r",
      " 93% [......................................................................      ] 638976 / 684476\r",
      " 94% [.......................................................................     ] 647168 / 684476\r",
      " 95% [........................................................................    ] 655360 / 684476\r",
      " 96% [.........................................................................   ] 663552 / 684476\r",
      " 98% [..........................................................................  ] 671744 / 684476\r",
      " 99% [........................................................................... ] 679936 / 684476\r",
      "100% [............................................................................] 684476 / 684476\n"
     ]
    },
    {
     "name": "stderr",
     "output_type": "stream",
     "text": [
      "[INFO] | 2022/08/06 09:01:42 | <- Request: scihub_url=https://sci-hub.se, source=DoiSource[type=doi, id=10.1007/s12665-019-8369-y\n",
      "]\n",
      "[INFO] | 2022/08/06 09:01:42 | -> Response: status_code=200, content_length=7077\n",
      "[INFO] | 2022/08/06 09:01:42 | * Extracted information: {'url': 'https://sci-hub.se/downloads/2019-08-21/66/hassan2019.pdf', 'title': 'Microstructural characteristics of organic soils treated with biomass silica stabilizer. Environmental Earth Sciences, 78(12)'}\n"
     ]
    },
    {
     "name": "stdout",
     "output_type": "stream",
     "text": [
      " 85% [...............................................................           ] 1073152 / 1250589"
     ]
    },
    {
     "name": "stderr",
     "output_type": "stream",
     "text": [
      "[INFO] | 2022/08/06 09:01:44 | ↓ Successfully download the url to: ./paper\\paper 5.pdf\n"
     ]
    },
    {
     "name": "stdout",
     "output_type": "stream",
     "text": [
      "\r",
      " 86% [...............................................................           ] 1081344 / 1250589\r",
      " 87% [................................................................          ] 1089536 / 1250589\r",
      " 87% [................................................................          ] 1097728 / 1250589\r",
      " 88% [.................................................................         ] 1105920 / 1250589\r",
      " 89% [.................................................................         ] 1114112 / 1250589\r",
      " 89% [..................................................................        ] 1122304 / 1250589\r",
      " 90% [..................................................................        ] 1130496 / 1250589\r",
      " 91% [...................................................................       ] 1138688 / 1250589\r",
      " 91% [...................................................................       ] 1146880 / 1250589\r",
      " 92% [....................................................................      ] 1155072 / 1250589\r",
      " 93% [....................................................................      ] 1163264 / 1250589\r",
      " 93% [.....................................................................     ] 1171456 / 1250589\r",
      " 94% [.....................................................................     ] 1179648 / 1250589\r",
      " 94% [......................................................................    ] 1187840 / 1250589\r",
      " 95% [......................................................................    ] 1196032 / 1250589\r",
      " 96% [.......................................................................   ] 1204224 / 1250589\r",
      " 96% [.......................................................................   ] 1212416 / 1250589\r",
      " 97% [........................................................................  ] 1220608 / 1250589\r",
      " 98% [........................................................................  ] 1228800 / 1250589\r",
      " 98% [......................................................................... ] 1236992 / 1250589\r",
      " 99% [......................................................................... ] 1245184 / 1250589\r",
      "100% [..........................................................................] 1250589 / 1250589\n"
     ]
    },
    {
     "name": "stderr",
     "output_type": "stream",
     "text": [
      "[INFO] | 2022/08/06 09:01:44 | Choose scihub url [0]: https://sci-hub.se\n",
      "[INFO] | 2022/08/06 09:01:45 | <- Request: scihub_url=https://sci-hub.se, source=DoiSource[type=doi, id=10.1007/978-981-15-1193-6_21\n",
      "]\n",
      "[INFO] | 2022/08/06 09:01:45 | -> Response: status_code=200, content_length=6880\n",
      "[INFO] | 2022/08/06 09:01:45 | * Extracted information: {'url': 'https://sci-hub.se/downloads/2020-03-01/f0/10.1007@978-981-15-1193-6.pdf', 'title': 'ICACE 2019. Lecture Notes in Civil Engineering'}\n"
     ]
    },
    {
     "name": "stdout",
     "output_type": "stream",
     "text": [
      " 99% [......................................................................... ] 8978432 / 9047694"
     ]
    },
    {
     "name": "stderr",
     "output_type": "stream",
     "text": [
      "[INFO] | 2022/08/06 09:01:51 | ↓ Successfully download the url to: ./paper\\paper 6.pdf\n"
     ]
    },
    {
     "name": "stdout",
     "output_type": "stream",
     "text": [
      "\r",
      " 99% [......................................................................... ] 8986624 / 9047694\r",
      " 99% [......................................................................... ] 8994816 / 9047694\r",
      " 99% [......................................................................... ] 9003008 / 9047694\r",
      " 99% [......................................................................... ] 9011200 / 9047694\r",
      " 99% [......................................................................... ] 9019392 / 9047694\r",
      " 99% [......................................................................... ] 9027584 / 9047694\r",
      " 99% [......................................................................... ] 9035776 / 9047694\r",
      " 99% [......................................................................... ] 9043968 / 9047694\r",
      "100% [..........................................................................] 9047694 / 9047694\n"
     ]
    },
    {
     "name": "stderr",
     "output_type": "stream",
     "text": [
      "[INFO] | 2022/08/06 09:01:51 | Choose scihub url [0]: https://sci-hub.se\n",
      "[INFO] | 2022/08/06 09:01:52 | <- Request: scihub_url=https://sci-hub.se, source=DoiSource[type=doi, id=10.1088/1757-899X/527/1/012021\n",
      "]\n",
      "[INFO] | 2022/08/06 09:01:52 | -> Response: status_code=200, content_length=7052\n",
      "[INFO] | 2022/08/06 09:01:52 | * Extracted information: {'url': 'https://sci-hub.se/downloads/2019-12-01/46/mohamedjais2019.pdf', 'title': 'Peat modification integrating Geopolymer and fly ash. IOP Conference Series  Materials Science and Engineering, 527, 012021'}\n"
     ]
    },
    {
     "name": "stdout",
     "output_type": "stream",
     "text": [
      " 91% [...................................................................       ] 1179648 / 1288675"
     ]
    },
    {
     "name": "stderr",
     "output_type": "stream",
     "text": [
      "[INFO] | 2022/08/06 09:01:54 | ↓ Successfully download the url to: ./paper\\paper 7.pdf\n"
     ]
    },
    {
     "name": "stdout",
     "output_type": "stream",
     "text": [
      "\r",
      " 92% [....................................................................      ] 1187840 / 1288675\r",
      " 92% [....................................................................      ] 1196032 / 1288675\r",
      " 93% [.....................................................................     ] 1204224 / 1288675\r",
      " 94% [.....................................................................     ] 1212416 / 1288675\r",
      " 94% [......................................................................    ] 1220608 / 1288675\r",
      " 95% [......................................................................    ] 1228800 / 1288675\r",
      " 95% [.......................................................................   ] 1236992 / 1288675\r",
      " 96% [.......................................................................   ] 1245184 / 1288675\r",
      " 97% [.......................................................................   ] 1253376 / 1288675\r",
      " 97% [........................................................................  ] 1261568 / 1288675\r",
      " 98% [........................................................................  ] 1269760 / 1288675\r",
      " 99% [......................................................................... ] 1277952 / 1288675\r",
      " 99% [......................................................................... ] 1286144 / 1288675\r",
      "100% [..........................................................................] 1288675 / 1288675\n"
     ]
    },
    {
     "name": "stderr",
     "output_type": "stream",
     "text": [
      "[INFO] | 2022/08/06 09:01:54 | Choose scihub url [0]: https://sci-hub.se\n",
      "[INFO] | 2022/08/06 09:01:55 | <- Request: scihub_url=https://sci-hub.se, source=DoiSource[type=doi, id=10.1088/1755-1315/140/1/012088\n",
      "]\n",
      "[INFO] | 2022/08/06 09:01:55 | -> Response: status_code=200, content_length=7192\n",
      "[INFO] | 2022/08/06 09:01:55 | * Extracted information: {'url': 'https://twin.sci-hub.se/6856/d89ae47967661cab0bc8c3947ccafa32/peat-soils-stabilization-using-effective-microorganisms-em-2018.pdf', 'title': 'Peat soils stabilization using Effective Microorganisms (EM). IOP Conference Series  Earth and Environmental Science, 140, 012088'}\n"
     ]
    },
    {
     "name": "stdout",
     "output_type": "stream",
     "text": [
      " 64% [.................................................                           ] 204800 / 316466"
     ]
    },
    {
     "name": "stderr",
     "output_type": "stream",
     "text": [
      "[INFO] | 2022/08/06 09:01:57 | ↓ Successfully download the url to: ./paper\\paper 8.pdf\n",
      "[INFO] | 2022/08/06 09:01:57 | Choose scihub url [0]: https://sci-hub.se\n"
     ]
    },
    {
     "name": "stdout",
     "output_type": "stream",
     "text": [
      "\r",
      " 67% [...................................................                         ] 212992 / 316466\r",
      " 69% [.....................................................                       ] 221184 / 316466\r",
      " 72% [.......................................................                     ] 229376 / 316466\r",
      " 75% [.........................................................                   ] 237568 / 316466\r",
      " 77% [...........................................................                 ] 245760 / 316466\r",
      " 80% [............................................................                ] 253952 / 316466\r",
      " 82% [..............................................................              ] 262144 / 316466\r",
      " 85% [................................................................            ] 270336 / 316466\r",
      " 88% [..................................................................          ] 278528 / 316466\r",
      " 90% [....................................................................        ] 286720 / 316466\r",
      " 93% [......................................................................      ] 294912 / 316466\r",
      " 95% [........................................................................    ] 303104 / 316466\r",
      " 98% [..........................................................................  ] 311296 / 316466\r",
      "100% [............................................................................] 316466 / 316466\n"
     ]
    },
    {
     "name": "stderr",
     "output_type": "stream",
     "text": [
      "[INFO] | 2022/08/06 09:01:58 | <- Request: scihub_url=https://sci-hub.se, source=DoiSource[type=doi, id=10.34218/IJARET.11.11.2020.051\n",
      "]\n",
      "[INFO] | 2022/08/06 09:01:58 | -> Response: status_code=200, content_length=5839\n",
      "[WARNING] | 2022/08/06 09:01:58 | Error occurs, task status: extracting_failed, error: No pdf tag was found in the given content with the selector: #pdf\n",
      "[INFO] | 2022/08/06 09:01:58 | Choose scihub url [1]: https://sci-hub.st\n",
      "[INFO] | 2022/08/06 09:01:59 | <- Request: scihub_url=https://sci-hub.st, source=DoiSource[type=doi, id=10.34218/IJARET.11.11.2020.051\n",
      "]\n",
      "[INFO] | 2022/08/06 09:01:59 | -> Response: status_code=200, content_length=0\n",
      "[WARNING] | 2022/08/06 09:01:59 | Error occurs, task status: extracting_failed, error: No pdf tag was found in the given content with the selector: #pdf\n",
      "[INFO] | 2022/08/06 09:01:59 | Choose scihub url [2]: http://sci-hub.se\n",
      "[INFO] | 2022/08/06 09:02:01 | <- Request: scihub_url=http://sci-hub.se, source=DoiSource[type=doi, id=10.34218/IJARET.11.11.2020.051\n",
      "]\n",
      "[INFO] | 2022/08/06 09:02:01 | -> Response: status_code=200, content_length=5839\n",
      "[WARNING] | 2022/08/06 09:02:01 | Error occurs, task status: extracting_failed, error: No pdf tag was found in the given content with the selector: #pdf\n",
      "[INFO] | 2022/08/06 09:02:01 | Choose scihub url [3]: http://sci-hub.st\n",
      "[INFO] | 2022/08/06 09:02:02 | <- Request: scihub_url=http://sci-hub.st, source=DoiSource[type=doi, id=10.34218/IJARET.11.11.2020.051\n",
      "]\n",
      "[INFO] | 2022/08/06 09:02:02 | -> Response: status_code=200, content_length=0\n",
      "[WARNING] | 2022/08/06 09:02:02 | Error occurs, task status: extracting_failed, error: No pdf tag was found in the given content with the selector: #pdf\n",
      "[INFO] | 2022/08/06 09:02:02 | Choose scihub url [4]: http://sci-hub.ru\n",
      "[INFO] | 2022/08/06 09:02:04 | <- Request: scihub_url=http://sci-hub.ru, source=DoiSource[type=doi, id=10.34218/IJARET.11.11.2020.051\n",
      "]\n",
      "[INFO] | 2022/08/06 09:02:04 | -> Response: status_code=403, content_length=8028\n",
      "[WARNING] | 2022/08/06 09:02:04 | Error occurs, task status: crawling_failed, error: Error occurs when crawling source: DoiSource[type=doi, id=10.34218/IJARET.11.11.2020.051\n",
      "]\n",
      "[INFO] | 2022/08/06 09:02:04 | Choose scihub url [5]: https://sci-hub.ru\n",
      "[INFO] | 2022/08/06 09:02:04 | <- Request: scihub_url=https://sci-hub.ru, source=DoiSource[type=doi, id=10.34218/IJARET.11.11.2020.051\n",
      "]\n",
      "[INFO] | 2022/08/06 09:02:04 | -> Response: status_code=403, content_length=8028\n",
      "[WARNING] | 2022/08/06 09:02:04 | Error occurs, task status: crawling_failed, error: Error occurs when crawling source: DoiSource[type=doi, id=10.34218/IJARET.11.11.2020.051\n",
      "]\n",
      "[ERROR] | 2022/08/06 09:02:04 | Failed to download the paper: 10.34218/IJARET.11.11.2020.051\n",
      ". Please try again.\n",
      "[INFO] | 2022/08/06 09:02:04 | Choose scihub url [0]: https://sci-hub.se\n",
      "[INFO] | 2022/08/06 09:02:05 | <- Request: scihub_url=https://sci-hub.se, source=DoiSource[type=doi, id=10.1007/s10706-018-0643-3\n",
      "]\n",
      "[INFO] | 2022/08/06 09:02:05 | -> Response: status_code=200, content_length=6910\n",
      "[INFO] | 2022/08/06 09:02:05 | * Extracted information: {'url': 'https://sci-hub.se/tree/b2/03/b203fe5470aacd70afdf351cf5bad51c.pdf', 'title': ''}\n"
     ]
    },
    {
     "name": "stdout",
     "output_type": "stream",
     "text": [
      " 96% [.......................................................................   ] 2408448 / 2496554"
     ]
    },
    {
     "name": "stderr",
     "output_type": "stream",
     "text": [
      "[INFO] | 2022/08/06 09:02:09 | ↓ Successfully download the url to: ./paper\\paper 10.pdf\n"
     ]
    },
    {
     "name": "stdout",
     "output_type": "stream",
     "text": [
      "\r",
      " 96% [.......................................................................   ] 2416640 / 2496554\r",
      " 97% [.......................................................................   ] 2424832 / 2496554\r",
      " 97% [........................................................................  ] 2433024 / 2496554\r",
      " 97% [........................................................................  ] 2441216 / 2496554\r",
      " 98% [........................................................................  ] 2449408 / 2496554\r",
      " 98% [........................................................................  ] 2457600 / 2496554\r",
      " 98% [......................................................................... ] 2465792 / 2496554\r",
      " 99% [......................................................................... ] 2473984 / 2496554\r",
      " 99% [......................................................................... ] 2482176 / 2496554\r",
      " 99% [......................................................................... ] 2490368 / 2496554\r",
      "100% [..........................................................................] 2496554 / 2496554\n"
     ]
    },
    {
     "name": "stderr",
     "output_type": "stream",
     "text": [
      "[INFO] | 2022/08/06 09:02:09 | Choose scihub url [0]: https://sci-hub.se\n",
      "[INFO] | 2022/08/06 09:02:10 | <- Request: scihub_url=https://sci-hub.se, source=DoiSource[type=doi, id=10.1155/2018/1945808\n",
      "]\n",
      "[INFO] | 2022/08/06 09:02:10 | -> Response: status_code=200, content_length=7161\n",
      "[INFO] | 2022/08/06 09:02:10 | * Extracted information: {'url': 'https://sci-hub.se/tree/f5/23/f523839cf93a34d15dc78494f7f4924f.pdf', 'title': 'Investigation of the Application of Various Water Additive Ratios on Unconfined Compressive Strength of Cement-Stabilized Amorphous Peat at Different Natural Moisture Contents. Advances in Civil Engi'}\n",
      "[WARNING] | 2022/08/06 09:02:11 | Error occurs, task status: downloading_failed, error: HTTP Error 404: Not Found\n",
      "[INFO] | 2022/08/06 09:02:11 | Choose scihub url [1]: https://sci-hub.st\n",
      "[INFO] | 2022/08/06 09:02:11 | <- Request: scihub_url=https://sci-hub.st, source=DoiSource[type=doi, id=10.1155/2018/1945808\n",
      "]\n",
      "[INFO] | 2022/08/06 09:02:11 | -> Response: status_code=200, content_length=0\n",
      "[WARNING] | 2022/08/06 09:02:11 | Error occurs, task status: extracting_failed, error: No pdf tag was found in the given content with the selector: #pdf\n",
      "[INFO] | 2022/08/06 09:02:11 | Choose scihub url [2]: http://sci-hub.se\n",
      "[INFO] | 2022/08/06 09:02:13 | <- Request: scihub_url=http://sci-hub.se, source=DoiSource[type=doi, id=10.1155/2018/1945808\n",
      "]\n",
      "[INFO] | 2022/08/06 09:02:13 | -> Response: status_code=200, content_length=7161\n",
      "[INFO] | 2022/08/06 09:02:13 | * Extracted information: {'url': 'http://sci-hub.se/tree/f5/23/f523839cf93a34d15dc78494f7f4924f.pdf', 'title': 'Investigation of the Application of Various Water Additive Ratios on Unconfined Compressive Strength of Cement-Stabilized Amorphous Peat at Different Natural Moisture Contents. Advances in Civil Engi'}\n",
      "[WARNING] | 2022/08/06 09:02:14 | Error occurs, task status: downloading_failed, error: HTTP Error 404: Not Found\n",
      "[INFO] | 2022/08/06 09:02:14 | Choose scihub url [3]: http://sci-hub.st\n",
      "[INFO] | 2022/08/06 09:02:15 | <- Request: scihub_url=http://sci-hub.st, source=DoiSource[type=doi, id=10.1155/2018/1945808\n",
      "]\n",
      "[INFO] | 2022/08/06 09:02:15 | -> Response: status_code=200, content_length=0\n",
      "[WARNING] | 2022/08/06 09:02:15 | Error occurs, task status: extracting_failed, error: No pdf tag was found in the given content with the selector: #pdf\n",
      "[INFO] | 2022/08/06 09:02:15 | Choose scihub url [4]: http://sci-hub.ru\n",
      "[INFO] | 2022/08/06 09:02:16 | <- Request: scihub_url=http://sci-hub.ru, source=DoiSource[type=doi, id=10.1155/2018/1945808\n",
      "]\n",
      "[INFO] | 2022/08/06 09:02:16 | -> Response: status_code=403, content_length=8028\n",
      "[WARNING] | 2022/08/06 09:02:17 | Error occurs, task status: crawling_failed, error: Error occurs when crawling source: DoiSource[type=doi, id=10.1155/2018/1945808\n",
      "]\n",
      "[INFO] | 2022/08/06 09:02:17 | Choose scihub url [5]: https://sci-hub.ru\n",
      "[INFO] | 2022/08/06 09:02:18 | <- Request: scihub_url=https://sci-hub.ru, source=DoiSource[type=doi, id=10.1155/2018/1945808\n",
      "]\n",
      "[INFO] | 2022/08/06 09:02:18 | -> Response: status_code=403, content_length=8028\n",
      "[WARNING] | 2022/08/06 09:02:18 | Error occurs, task status: crawling_failed, error: Error occurs when crawling source: DoiSource[type=doi, id=10.1155/2018/1945808\n",
      "]\n",
      "[ERROR] | 2022/08/06 09:02:18 | Failed to download the paper: 10.1155/2018/1945808\n",
      ". Please try again.\n",
      "[INFO] | 2022/08/06 09:02:18 | Choose scihub url [0]: https://sci-hub.se\n",
      "[INFO] | 2022/08/06 09:02:19 | <- Request: scihub_url=https://sci-hub.se, source=DoiSource[type=doi, id=10.30880/ijie.2019.11.06.022\n",
      "]\n",
      "[INFO] | 2022/08/06 09:02:19 | -> Response: status_code=200, content_length=5837\n",
      "[WARNING] | 2022/08/06 09:02:19 | Error occurs, task status: extracting_failed, error: No pdf tag was found in the given content with the selector: #pdf\n",
      "[INFO] | 2022/08/06 09:02:19 | Choose scihub url [1]: https://sci-hub.st\n",
      "[INFO] | 2022/08/06 09:02:20 | <- Request: scihub_url=https://sci-hub.st, source=DoiSource[type=doi, id=10.30880/ijie.2019.11.06.022\n",
      "]\n",
      "[INFO] | 2022/08/06 09:02:20 | -> Response: status_code=200, content_length=0\n",
      "[WARNING] | 2022/08/06 09:02:20 | Error occurs, task status: extracting_failed, error: No pdf tag was found in the given content with the selector: #pdf\n",
      "[INFO] | 2022/08/06 09:02:20 | Choose scihub url [2]: http://sci-hub.se\n",
      "[INFO] | 2022/08/06 09:02:21 | <- Request: scihub_url=http://sci-hub.se, source=DoiSource[type=doi, id=10.30880/ijie.2019.11.06.022\n",
      "]\n",
      "[INFO] | 2022/08/06 09:02:21 | -> Response: status_code=200, content_length=5837\n",
      "[WARNING] | 2022/08/06 09:02:21 | Error occurs, task status: extracting_failed, error: No pdf tag was found in the given content with the selector: #pdf\n",
      "[INFO] | 2022/08/06 09:02:21 | Choose scihub url [3]: http://sci-hub.st\n",
      "[INFO] | 2022/08/06 09:02:22 | <- Request: scihub_url=http://sci-hub.st, source=DoiSource[type=doi, id=10.30880/ijie.2019.11.06.022\n",
      "]\n",
      "[INFO] | 2022/08/06 09:02:22 | -> Response: status_code=200, content_length=0\n",
      "[WARNING] | 2022/08/06 09:02:23 | Error occurs, task status: extracting_failed, error: No pdf tag was found in the given content with the selector: #pdf\n",
      "[INFO] | 2022/08/06 09:02:23 | Choose scihub url [4]: http://sci-hub.ru\n",
      "[INFO] | 2022/08/06 09:02:24 | <- Request: scihub_url=http://sci-hub.ru, source=DoiSource[type=doi, id=10.30880/ijie.2019.11.06.022\n",
      "]\n",
      "[INFO] | 2022/08/06 09:02:24 | -> Response: status_code=403, content_length=8028\n",
      "[WARNING] | 2022/08/06 09:02:24 | Error occurs, task status: crawling_failed, error: Error occurs when crawling source: DoiSource[type=doi, id=10.30880/ijie.2019.11.06.022\n",
      "]\n",
      "[INFO] | 2022/08/06 09:02:24 | Choose scihub url [5]: https://sci-hub.ru\n",
      "[INFO] | 2022/08/06 09:02:24 | <- Request: scihub_url=https://sci-hub.ru, source=DoiSource[type=doi, id=10.30880/ijie.2019.11.06.022\n",
      "]\n",
      "[INFO] | 2022/08/06 09:02:24 | -> Response: status_code=403, content_length=8028\n",
      "[WARNING] | 2022/08/06 09:02:24 | Error occurs, task status: crawling_failed, error: Error occurs when crawling source: DoiSource[type=doi, id=10.30880/ijie.2019.11.06.022\n",
      "]\n",
      "[ERROR] | 2022/08/06 09:02:24 | Failed to download the paper: 10.30880/ijie.2019.11.06.022\n",
      ". Please try again.\n",
      "[INFO] | 2022/08/06 09:02:24 | Choose scihub url [0]: https://sci-hub.se\n",
      "[INFO] | 2022/08/06 09:02:25 | <- Request: scihub_url=https://sci-hub.se, source=DoiSource[type=doi, id=10.1007/s12205-019-0343-4\n",
      "]\n",
      "[INFO] | 2022/08/06 09:02:25 | -> Response: status_code=200, content_length=7069\n",
      "[INFO] | 2022/08/06 09:02:25 | * Extracted information: {'url': 'https://sci-hub.se/downloads/2019-01-13//8f/10.1007@s12205-019-0343-4.pdf', 'title': 'A Study on UCS of Stabilized Peat with Natural Filler  A Computational Estimation Approach. KSCE Journal of Civil Engineering'}\n"
     ]
    },
    {
     "name": "stdout",
     "output_type": "stream",
     "text": [
      " 84% [..............................................................            ] 1400832 / 1648098"
     ]
    },
    {
     "name": "stderr",
     "output_type": "stream",
     "text": [
      "[INFO] | 2022/08/06 09:02:28 | ↓ Successfully download the url to: ./paper\\paper 13.pdf\n"
     ]
    },
    {
     "name": "stdout",
     "output_type": "stream",
     "text": [
      "\r",
      " 85% [...............................................................           ] 1409024 / 1648098\r",
      " 85% [...............................................................           ] 1417216 / 1648098\r",
      " 86% [................................................................          ] 1425408 / 1648098\r",
      " 86% [................................................................          ] 1433600 / 1648098\r",
      " 87% [................................................................          ] 1441792 / 1648098\r",
      " 87% [.................................................................         ] 1449984 / 1648098\r",
      " 88% [.................................................................         ] 1458176 / 1648098\r",
      " 88% [.................................................................         ] 1466368 / 1648098\r",
      " 89% [..................................................................        ] 1474560 / 1648098\r",
      " 89% [..................................................................        ] 1482752 / 1648098\r",
      " 90% [..................................................................        ] 1490944 / 1648098\r",
      " 90% [...................................................................       ] 1499136 / 1648098\r",
      " 91% [...................................................................       ] 1507328 / 1648098\r",
      " 91% [....................................................................      ] 1515520 / 1648098\r",
      " 92% [....................................................................      ] 1523712 / 1648098\r",
      " 92% [....................................................................      ] 1531904 / 1648098\r",
      " 93% [.....................................................................     ] 1540096 / 1648098\r",
      " 93% [.....................................................................     ] 1548288 / 1648098\r",
      " 94% [.....................................................................     ] 1556480 / 1648098\r",
      " 94% [......................................................................    ] 1564672 / 1648098\r",
      " 95% [......................................................................    ] 1572864 / 1648098\r",
      " 95% [......................................................................    ] 1581056 / 1648098\r",
      " 96% [.......................................................................   ] 1589248 / 1648098\r",
      " 96% [.......................................................................   ] 1597440 / 1648098\r",
      " 97% [........................................................................  ] 1605632 / 1648098\r",
      " 97% [........................................................................  ] 1613824 / 1648098\r",
      " 98% [........................................................................  ] 1622016 / 1648098\r",
      " 98% [......................................................................... ] 1630208 / 1648098\r",
      " 99% [......................................................................... ] 1638400 / 1648098\r",
      " 99% [......................................................................... ] 1646592 / 1648098\r",
      "100% [..........................................................................] 1648098 / 1648098\n"
     ]
    }
   ],
   "source": [
    "for doi in dois:\n",
    "    paper = doi\n",
    "    paper_type = \"doi\"\n",
    "    #y = str(doi)\n",
    "    #print ('paper', x , y)\n",
    "    out = output_dir + \"/paper \" + str(x) + \".pdf\"\n",
    "    x = x+1\n",
    "    scihub_download(paper, paper_type=paper_type, out=out)"
   ]
  }
 ],
 "metadata": {
  "kernelspec": {
   "display_name": "Python 3 (ipykernel)",
   "language": "python",
   "name": "python3"
  },
  "language_info": {
   "codemirror_mode": {
    "name": "ipython",
    "version": 3
   },
   "file_extension": ".py",
   "mimetype": "text/x-python",
   "name": "python",
   "nbconvert_exporter": "python",
   "pygments_lexer": "ipython3",
   "version": "3.8.3"
  }
 },
 "nbformat": 4,
 "nbformat_minor": 5
}
