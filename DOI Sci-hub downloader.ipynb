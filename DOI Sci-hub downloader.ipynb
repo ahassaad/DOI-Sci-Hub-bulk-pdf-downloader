{
 "cells": [
  {
   "cell_type": "code",
   "execution_count": 1,
   "id": "f3b2bb5e",
   "metadata": {},
   "outputs": [],
   "source": [
    "#python -m PyPaperBot --doi-file=\"C:\\Users\\ahass\\Downloads\\DOI Sci-hub downloader\\file.txt\" --dwn-dir=\"D:\\- PhD Data -\\- PhD Research -\\2022\\Systematic LR\\Marine Clay\"`"
   ]
  },
  {
   "cell_type": "code",
   "execution_count": 2,
   "id": "b3d4c2d7",
   "metadata": {},
   "outputs": [],
   "source": [
    "#!pip install scidownl   #to istall the librarry"
   ]
  },
  {
   "cell_type": "code",
   "execution_count": 3,
   "id": "e1b3477b",
   "metadata": {},
   "outputs": [],
   "source": [
    "from scidownl import scihub_download\n",
    "import os"
   ]
  },
  {
   "cell_type": "code",
   "execution_count": 7,
   "id": "8a2885d5",
   "metadata": {},
   "outputs": [],
   "source": [
    "doilist = open('file.txt', 'r')     #DOI directory location\n",
    "dois = doilist.readlines()\n",
    "output_dir = './paper'              #download folder\n",
    "#print (dois)                       #for doi list for check if txt file is working"
   ]
  },
  {
   "cell_type": "code",
   "execution_count": null,
   "id": "ed4fe875",
   "metadata": {},
   "outputs": [],
   "source": [
    "for doi in dois:\n",
    "    paper = doi\n",
    "    paper_type = \"doi\"\n",
    "    x = 1\n",
    "    #y = str(doi)\n",
    "    #print ('paper', x , y)\n",
    "    out = output_dir + \"/paper \" + str(x) + \".pdf\"\n",
    "    scihub_download(paper, paper_type=paper_type, out=out)\n",
    "    x = x+1"
   ]
  },
  {
   "cell_type": "code",
   "execution_count": null,
   "id": "84a4c57f",
   "metadata": {},
   "outputs": [],
   "source": []
  }
 ],
 "metadata": {
  "kernelspec": {
   "display_name": "Python 3 (ipykernel)",
   "language": "python",
   "name": "python3"
  },
  "language_info": {
   "codemirror_mode": {
    "name": "ipython",
    "version": 3
   },
   "file_extension": ".py",
   "mimetype": "text/x-python",
   "name": "python",
   "nbconvert_exporter": "python",
   "pygments_lexer": "ipython3",
   "version": "3.8.3"
  }
 },
 "nbformat": 4,
 "nbformat_minor": 5
}
